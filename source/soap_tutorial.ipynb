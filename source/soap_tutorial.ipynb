{
 "cells": [
  {
   "cell_type": "markdown",
   "id": "e5ba2b19",
   "metadata": {},
   "source": [
    "# construct SOAP descriptor\n",
    "we are using SOAP descriptor to charaterize the local geometry beyond conventional Cartesian coordinates and is invariant to rotations, translations, permutations, etc. To make SOAP descriptor applicable for system with many element species, we here do not distinguish different elements in the local environment since this information is already encoded in some of the other features in the WWL-GPR model."
   ]
  },
  {
   "cell_type": "markdown",
   "id": "d288f37f",
   "metadata": {},
   "source": [
    "## input a structure (or a valide ASE atoms object)\n",
    "for example we create an alloy Pt3Rh fcc(211) surfaces"
   ]
  },
  {
   "cell_type": "code",
   "execution_count": 1,
   "id": "573a4e6a",
   "metadata": {},
   "outputs": [],
   "source": [
    "from ase import Atoms, visualize\n",
    "from ase.build import surface\n",
    "from ase.visualize.plot import plot_atoms\n",
    "a = 4.0\n",
    "Pt3Rh = Atoms('Pt3Rh',\n",
    "              scaled_positions=[(0, 0, 0),\n",
    "                                (0.5, 0.5, 0),\n",
    "                                (0.5, 0, 0.5),\n",
    "                                (0, 0.5, 0.5)],\n",
    "              cell=[a, a, a],\n",
    "              pbc=True)\n",
    "s3 = surface(Pt3Rh, (2, 1, 1), 9)\n",
    "s3.center(vacuum=10, axis=2)"
   ]
  },
  {
   "cell_type": "markdown",
   "id": "ec5c1595",
   "metadata": {},
   "source": [
    "visualize its structure"
   ]
  },
  {
   "cell_type": "code",
   "execution_count": 2,
   "id": "075fe367",
   "metadata": {},
   "outputs": [
    {
     "data": {
      "text/plain": [
       "<matplotlib.axes._subplots.AxesSubplot at 0x7fb6df6f7fa0>"
      ]
     },
     "execution_count": 2,
     "metadata": {},
     "output_type": "execute_result"
    },
    {
     "data": {
      "image/png": "[encoded data removed]",
      "text/plain": [
       "<Figure size 432x288 with 1 Axes>"
      ]
     },
     "metadata": {
      "needs_background": "light"
     },
     "output_type": "display_data"
    }
   ],
   "source": [
    "import matplotlib.pyplot as plt\n",
    "fig, ax = plt.subplots(1, 1)\n",
    "ax.axis('off')\n",
    "plot_atoms(s3,radii=0.8, rotation=(\"-75x, 45y, 10z\"))"
   ]
  },
  {
   "cell_type": "markdown",
   "id": "c4de7e2a",
   "metadata": {},
   "source": [
    "## set all elements to be uniform \n",
    "where you could specify them to be \"C\" or whatever element. Different choice dose not change the results"
   ]
  },
  {
   "cell_type": "code",
   "execution_count": 3,
   "id": "bc7f7453",
   "metadata": {},
   "outputs": [],
   "source": [
    "s3.symbols = [\"C\"]*len(s3)"
   ]
  },
  {
   "cell_type": "markdown",
   "id": "c6bcb554",
   "metadata": {},
   "source": [
    "## create SOAP descriptor by adjusting some parameters \n",
    "for example we use rcut = 3; nmax = 4; lmax = 6, sigma=0.35. Benefit from graph-based message passing architecture, we don't have to consider too large cutoff. You may want to understand in-depth each of hyperparameters and optimize them for your own system. see: https://singroup.github.io/dscribe/latest/tutorials/descriptors/soap.html"
   ]
  },
  {
   "cell_type": "code",
   "execution_count": 4,
   "id": "5a83acd8",
   "metadata": {},
   "outputs": [],
   "source": [
    "from dscribe.descriptors import SOAP\n",
    "rcut = 3; nmax = 4; lmax = 6\n",
    "species = (['C'])\n",
    "periodic_soap = SOAP( \n",
    "    species=species, \n",
    "    rcut=rcut,\n",
    "    nmax=nmax, \n",
    "    lmax=lmax, \n",
    "    sigma=0.35,\n",
    "    periodic=True, \n",
    "    sparse=False \n",
    ")       "
   ]
  },
  {
   "cell_type": "code",
   "execution_count": 5,
   "id": "637f54b2",
   "metadata": {},
   "outputs": [],
   "source": [
    "soap_s3 = periodic_soap.create(s3)"
   ]
  },
  {
   "cell_type": "code",
   "execution_count": 6,
   "id": "797928c0",
   "metadata": {},
   "outputs": [
    {
     "name": "stdout",
     "output_type": "stream",
     "text": [
      "[[ 0.46272433  0.7288511   0.3429046  ...  0.01176504 -0.00948084\n",
      "   0.00764012]\n",
      " [ 0.45351586  0.73689     0.30942783 ...  0.02005363 -0.01615999\n",
      "   0.01302235]\n",
      " [ 0.45351586  0.73689     0.30942783 ...  0.02005363 -0.01615999\n",
      "   0.01302235]\n",
      " ...\n",
      " [ 0.46272433  0.7288511   0.3429046  ...  0.01176504 -0.00948084\n",
      "   0.00764012]\n",
      " [ 0.46272433  0.7288511   0.3429046  ...  0.01176504 -0.00948084\n",
      "   0.00764012]\n",
      " [ 0.45351586  0.73689     0.30942783 ...  0.02005363 -0.01615999\n",
      "   0.01302235]] number of atoms: 36 length of descriptor: 70\n"
     ]
    }
   ],
   "source": [
    "print(soap_s3, \"number of atoms:\", len(soap_s3), \"length of descriptor:\", len(soap_s3[0]))"
   ]
  },
  {
   "cell_type": "markdown",
   "id": "b67307ef",
   "metadata": {},
   "source": [
    "Now you get a soap descriptor to represent the geometry of this structure without distinguishing element. For each atom in the structure you get a soap vector in order of indices of radial basis functions and angular degree of the spherical harmonics, and its length is equal to 70 under current setting"
   ]
  },
  {
   "cell_type": "code",
   "execution_count": null,
   "id": "94ded726",
   "metadata": {},
   "outputs": [],
   "source": []
  }
 ],
 "metadata": {
  "kernelspec": {
   "display_name": "Python 3.8.8 64-bit ('graph': conda)",
   "language": "python",
   "name": "python388jvsc74a57bd02744c70d9c416f26eb58f9c2dadc088faa468c044b23de961e4c4702d1b3cd3b"
  },
  "language_info": {
   "codemirror_mode": {
    "name": "ipython",
    "version": 3
   },
   "file_extension": ".py",
   "mimetype": "text/x-python",
   "name": "python",
   "nbconvert_exporter": "python",
   "pygments_lexer": "ipython3",
   "version": "3.8.8"
  },
  "toc": {
   "base_numbering": 1,
   "nav_menu": {},
   "number_sections": true,
   "sideBar": true,
   "skip_h1_title": false,
   "title_cell": "Table of Contents",
   "title_sidebar": "Contents",
   "toc_cell": false,
   "toc_position": {},
   "toc_section_display": true,
   "toc_window_display": false
  }
 },
 "nbformat": 4,
 "nbformat_minor": 5
}
