{
 "cells": [
  {
   "cell_type": "code",
   "execution_count": 1,
   "id": "421c0ab4",
   "metadata": {},
   "outputs": [],
   "source": [
    "import numpy as np\n",
    "import time\n",
    "from numpy.core.numeric import indices\n",
    "from sklearn.metrics import mean_absolute_error, mean_squared_error\n",
    "import pickle\n",
    "import pandas as pd\n",
    "from sklearn import preprocessing \n",
    "from sklearn.impute import SimpleImputer\n",
    "from sklearn.model_selection import train_test_split\n",
    "from sklearn.metrics import mean_absolute_error, mean_squared_error\n",
    "from sklearn.model_selection import KFold,LeaveOneOut,StratifiedKFold\n",
    "import xgboost as xgb\n",
    "from xgboost.sklearn import XGBRegressor\n",
    "from sklearn.model_selection import ParameterGrid"
   ]
  },
  {
   "cell_type": "code",
   "execution_count": 2,
   "id": "d53d9149",
   "metadata": {},
   "outputs": [],
   "source": [
    "def ClassifySpecies(filenames):\n",
    "    adsorbate_list = []\n",
    "    for filename in filenames:\n",
    "        adsorbate  = filename.split('_')[0]\n",
    "        if adsorbate not in adsorbate_list:\n",
    "            adsorbate_list.append(adsorbate)\n",
    "    classify_list = []\n",
    "    for filename in filenames:\n",
    "        key = filename.split('_')[0]\n",
    "        classify_list.append(np.argwhere(np.array(adsorbate_list) == key)[0][0])\n",
    "    return classify_list\n",
    "def _data_prepressing(pre_feature_matrix, train_index, test_index, data_processor):\n",
    "    X_train_raw, X_test_raw = pre_feature_matrix.iloc[train_index], pre_feature_matrix.iloc[test_index]\n",
    "    hp_processor            = data_processor.fit(X_train_raw)\n",
    "    X_train, X_test         = hp_processor.transform(X_train_raw), hp_processor.transform(X_test_raw)\n",
    "    return X_train, X_test\n",
    "data_preprocessor        = preprocessing.StandardScaler()\n",
    "def helper_cv(\n",
    "        params,\n",
    "        dtrain,\n",
    "        num_boost_round,\n",
    "        seed   = 0,\n",
    "        nfold  = 5,\n",
    "        metrics= 'rmse',\n",
    "        early_stopping_rounds = 50,\n",
    "        **kwargs):\n",
    "    if kwargs:\n",
    "        min_rmse = float(\"Inf\")\n",
    "        best_params = None\n",
    "        grid = ParameterGrid(kwargs)\n",
    "        for para_i in grid:\n",
    "            params.update(para_i)\n",
    "            cv_results = xgb.cv(\n",
    "                        params,\n",
    "                        dtrain,\n",
    "                        num_boost_round=num_boost_round,\n",
    "                        seed =seed,\n",
    "                        nfold=nfold,\n",
    "                        metrics=metrics,\n",
    "                        early_stopping_rounds=early_stopping_rounds\n",
    "                    )   \n",
    "            mean_rmse = cv_results['test-rmse-mean'].min()\n",
    "            boost_rounds = cv_results['test-rmse-mean'].argmin()\n",
    "            print(\"params:\", para_i, \"cv score\", np.round(mean_rmse,4), \"round\", boost_rounds)\n",
    "            if mean_rmse < min_rmse:\n",
    "                min_rmse = mean_rmse\n",
    "                best_params = para_i\n",
    "        print(\"Best params:\", best_params ,min_rmse)\n",
    "        params.update(best_params)\n",
    "        return params\n",
    "    #if not grid search, expect num_boost_round to be optimized\n",
    "    else:\n",
    "        cv_results = xgb.cv(\n",
    "        params,\n",
    "        dtrain,\n",
    "        num_boost_round=num_boost_round,\n",
    "        nfold  = nfold, \n",
    "        metrics= metrics,\n",
    "        early_stopping_rounds=early_stopping_rounds\n",
    "        )\n",
    "        return cv_results.shape[0]"
   ]
  },
  {
   "cell_type": "markdown",
   "id": "806a52d1",
   "metadata": {},
   "source": [
    "# only perform 1 out of 5-fold as an example"
   ]
  },
  {
   "cell_type": "code",
   "execution_count": 3,
   "id": "58ef0170",
   "metadata": {},
   "outputs": [],
   "source": [
    "datas                    = pd.read_excel('data.xlsx')\n",
    "datas_X                  = datas.drop([\"Samples\", \"E_ads\"], axis=1)\n",
    "datas_y                  = datas[\"E_ads\"]\n",
    "file_names               = datas['Samples']"
   ]
  },
  {
   "cell_type": "code",
   "execution_count": 4,
   "id": "a6a0f646",
   "metadata": {},
   "outputs": [],
   "source": [
    "skf=StratifiedKFold(5, random_state=98, shuffle=True)\n",
    "for train_index, test_index in skf.split(datas_X, ClassifySpecies(file_names)):\n",
    "    X_train, X_test = _data_prepressing(datas_X, train_index, test_index, data_preprocessor)\n",
    "    y_train, y_test = datas_y.iloc[train_index], datas_y.iloc[test_index]"
   ]
  },
  {
   "cell_type": "code",
   "execution_count": 5,
   "id": "f8a95a84",
   "metadata": {},
   "outputs": [],
   "source": [
    "dtrain = xgb.DMatrix(X_train, label=y_train)\n",
    "dtest  = xgb.DMatrix(X_test, label=y_test)"
   ]
  },
  {
   "cell_type": "markdown",
   "id": "35b6ba72",
   "metadata": {},
   "source": [
    "# initialize hyperparameters"
   ]
  },
  {
   "cell_type": "code",
   "execution_count": 6,
   "id": "954ea47b",
   "metadata": {},
   "outputs": [],
   "source": [
    "params = {\n",
    "         \"max_depth\"    : 4,\n",
    "         \"min_child_weight\": 1,\n",
    "         \"eta\" : 0.1, \n",
    "         \"gamma\": 0,\n",
    "         \"reg_lambda\" : 1,\n",
    "         \"subsample\": 1,\n",
    "         \"colsample_bytree\": 1,\n",
    "          }\n",
    "num_boost_round = 3000\n",
    "early_stopping_rounds = 50"
   ]
  },
  {
   "cell_type": "markdown",
   "id": "e44421ea",
   "metadata": {},
   "source": [
    "# optimize num_boost_round for given learning rate"
   ]
  },
  {
   "cell_type": "code",
   "execution_count": 7,
   "id": "6543ce78",
   "metadata": {},
   "outputs": [],
   "source": [
    "num_boost_round = helper_cv(\n",
    "                        params,\n",
    "                        dtrain,\n",
    "                        num_boost_round,\n",
    "                        seed   = 0,\n",
    "                        nfold  = 5,\n",
    "                        metrics= 'rmse',\n",
    "                        early_stopping_rounds = 50)"
   ]
  },
  {
   "cell_type": "markdown",
   "id": "9d38e49b",
   "metadata": {},
   "source": [
    "# grid search for max_depth and min_child_weight"
   ]
  },
  {
   "cell_type": "code",
   "execution_count": 8,
   "id": "e0d57b1a",
   "metadata": {},
   "outputs": [
    {
     "name": "stdout",
     "output_type": "stream",
     "text": [
      "params: {'max_depth': 3, 'min_child_weight': 1} cv score 0.1538 round 1337\n",
      "params: {'max_depth': 3, 'min_child_weight': 2} cv score 0.1528 round 1995\n",
      "params: {'max_depth': 3, 'min_child_weight': 3} cv score 0.1524 round 1843\n",
      "params: {'max_depth': 3, 'min_child_weight': 4} cv score 0.1578 round 1440\n",
      "params: {'max_depth': 3, 'min_child_weight': 5} cv score 0.1575 round 1489\n",
      "params: {'max_depth': 4, 'min_child_weight': 1} cv score 0.1525 round 1995\n",
      "params: {'max_depth': 4, 'min_child_weight': 2} cv score 0.1523 round 1995\n",
      "params: {'max_depth': 4, 'min_child_weight': 3} cv score 0.1498 round 992\n",
      "params: {'max_depth': 4, 'min_child_weight': 4} cv score 0.1543 round 1037\n",
      "params: {'max_depth': 4, 'min_child_weight': 5} cv score 0.1559 round 1054\n",
      "params: {'max_depth': 5, 'min_child_weight': 1} cv score 0.1591 round 1078\n",
      "params: {'max_depth': 5, 'min_child_weight': 2} cv score 0.1558 round 1203\n",
      "params: {'max_depth': 5, 'min_child_weight': 3} cv score 0.1568 round 990\n",
      "params: {'max_depth': 5, 'min_child_weight': 4} cv score 0.1592 round 1247\n",
      "params: {'max_depth': 5, 'min_child_weight': 5} cv score 0.1609 round 1294\n",
      "params: {'max_depth': 6, 'min_child_weight': 1} cv score 0.1725 round 668\n",
      "params: {'max_depth': 6, 'min_child_weight': 2} cv score 0.1659 round 718\n",
      "params: {'max_depth': 6, 'min_child_weight': 3} cv score 0.1645 round 789\n",
      "params: {'max_depth': 6, 'min_child_weight': 4} cv score 0.1684 round 992\n",
      "params: {'max_depth': 6, 'min_child_weight': 5} cv score 0.1712 round 1144\n",
      "params: {'max_depth': 7, 'min_child_weight': 1} cv score 0.1832 round 428\n",
      "params: {'max_depth': 7, 'min_child_weight': 2} cv score 0.1751 round 502\n",
      "params: {'max_depth': 7, 'min_child_weight': 3} cv score 0.1731 round 613\n",
      "params: {'max_depth': 7, 'min_child_weight': 4} cv score 0.1788 round 752\n",
      "params: {'max_depth': 7, 'min_child_weight': 5} cv score 0.1748 round 806\n",
      "Best params: {'max_depth': 4, 'min_child_weight': 3} 0.1498016\n"
     ]
    }
   ],
   "source": [
    "max_depth        = [max_depth        for max_depth in range(3,8,1)]\n",
    "min_child_weight = [min_child_weight for min_child_weight in range(1,6,1)]\n",
    "params           = helper_cv(\n",
    "                        params,\n",
    "                        dtrain,\n",
    "                        num_boost_round,\n",
    "                        seed   = 0,\n",
    "                        nfold  = 5,\n",
    "                        metrics= 'rmse',\n",
    "                        early_stopping_rounds = 50,\n",
    "                        max_depth = max_depth,\n",
    "                        min_child_weight = min_child_weight)"
   ]
  },
  {
   "cell_type": "markdown",
   "id": "5f065cf1",
   "metadata": {},
   "source": [
    "# grid search for subsample and colsample_bytree"
   ]
  },
  {
   "cell_type": "code",
   "execution_count": 9,
   "id": "6b4ada9f",
   "metadata": {},
   "outputs": [
    {
     "name": "stdout",
     "output_type": "stream",
     "text": [
      "params: {'colsample_bytree': 0.7, 'subsample': 0.7} cv score 0.1478 round 1130\n",
      "params: {'colsample_bytree': 0.7, 'subsample': 0.8} cv score 0.142 round 836\n",
      "params: {'colsample_bytree': 0.7, 'subsample': 0.9} cv score 0.1431 round 1296\n",
      "params: {'colsample_bytree': 0.7, 'subsample': 1.0} cv score 0.1444 round 1595\n",
      "params: {'colsample_bytree': 0.8, 'subsample': 0.7} cv score 0.1448 round 1118\n",
      "params: {'colsample_bytree': 0.8, 'subsample': 0.8} cv score 0.1468 round 947\n",
      "params: {'colsample_bytree': 0.8, 'subsample': 0.9} cv score 0.1492 round 1043\n",
      "params: {'colsample_bytree': 0.8, 'subsample': 1.0} cv score 0.1465 round 1471\n",
      "params: {'colsample_bytree': 0.9, 'subsample': 0.7} cv score 0.1463 round 750\n",
      "params: {'colsample_bytree': 0.9, 'subsample': 0.8} cv score 0.1445 round 1079\n",
      "params: {'colsample_bytree': 0.9, 'subsample': 0.9} cv score 0.1435 round 1096\n",
      "params: {'colsample_bytree': 0.9, 'subsample': 1.0} cv score 0.1501 round 1994\n",
      "params: {'colsample_bytree': 1.0, 'subsample': 0.7} cv score 0.1501 round 793\n",
      "params: {'colsample_bytree': 1.0, 'subsample': 0.8} cv score 0.1489 round 1077\n",
      "params: {'colsample_bytree': 1.0, 'subsample': 0.9} cv score 0.1443 round 1231\n",
      "params: {'colsample_bytree': 1.0, 'subsample': 1.0} cv score 0.1498 round 992\n",
      "Best params: {'colsample_bytree': 0.7, 'subsample': 0.8} 0.1420324\n"
     ]
    }
   ],
   "source": [
    "subsample        = [subsample/10     for subsample in range(7,11)]\n",
    "colsample_bytree = [colsample_bytree/10 for colsample_bytree in range(7,11)]\n",
    "params           = helper_cv(\n",
    "                        params,\n",
    "                        dtrain,\n",
    "                        num_boost_round,\n",
    "                        seed   = 0,\n",
    "                        nfold  = 5,\n",
    "                        metrics= 'rmse',\n",
    "                        early_stopping_rounds = 50,\n",
    "                        subsample = subsample,\n",
    "                        colsample_bytree = colsample_bytree)"
   ]
  },
  {
   "cell_type": "markdown",
   "id": "07e8b468",
   "metadata": {},
   "source": [
    "# grid search for regularization (gamma and lambda (L2))"
   ]
  },
  {
   "cell_type": "code",
   "execution_count": 10,
   "id": "539b2ef2",
   "metadata": {},
   "outputs": [
    {
     "name": "stdout",
     "output_type": "stream",
     "text": [
      "params: {'gamma': 0.0, 'reg_lambda': 1.0} cv score 0.142 round 836\n",
      "params: {'gamma': 0.0, 'reg_lambda': 1.5} cv score 0.1428 round 1293\n",
      "params: {'gamma': 0.0, 'reg_lambda': 2.0} cv score 0.1435 round 997\n",
      "params: {'gamma': 0.0, 'reg_lambda': 2.5} cv score 0.1431 round 956\n",
      "params: {'gamma': 0.0, 'reg_lambda': 3.0} cv score 0.1451 round 1284\n",
      "params: {'gamma': 0.0, 'reg_lambda': 3.5} cv score 0.1422 round 1282\n",
      "params: {'gamma': 0.0, 'reg_lambda': 4.0} cv score 0.1412 round 1386\n",
      "params: {'gamma': 0.0, 'reg_lambda': 4.5} cv score 0.1418 round 1584\n",
      "params: {'gamma': 0.05, 'reg_lambda': 1.0} cv score 0.1558 round 822\n",
      "params: {'gamma': 0.05, 'reg_lambda': 1.5} cv score 0.1581 round 1806\n",
      "params: {'gamma': 0.05, 'reg_lambda': 2.0} cv score 0.1576 round 1477\n",
      "params: {'gamma': 0.05, 'reg_lambda': 2.5} cv score 0.1577 round 746\n",
      "params: {'gamma': 0.05, 'reg_lambda': 3.0} cv score 0.1601 round 902\n",
      "params: {'gamma': 0.05, 'reg_lambda': 3.5} cv score 0.1569 round 1515\n",
      "params: {'gamma': 0.05, 'reg_lambda': 4.0} cv score 0.156 round 1606\n",
      "params: {'gamma': 0.05, 'reg_lambda': 4.5} cv score 0.1573 round 1986\n",
      "params: {'gamma': 0.1, 'reg_lambda': 1.0} cv score 0.1661 round 833\n",
      "params: {'gamma': 0.1, 'reg_lambda': 1.5} cv score 0.1685 round 977\n",
      "params: {'gamma': 0.1, 'reg_lambda': 2.0} cv score 0.1703 round 557\n",
      "params: {'gamma': 0.1, 'reg_lambda': 2.5} cv score 0.1682 round 985\n",
      "params: {'gamma': 0.1, 'reg_lambda': 3.0} cv score 0.1686 round 1283\n",
      "params: {'gamma': 0.1, 'reg_lambda': 3.5} cv score 0.1682 round 836\n",
      "params: {'gamma': 0.1, 'reg_lambda': 4.0} cv score 0.1681 round 1835\n",
      "params: {'gamma': 0.1, 'reg_lambda': 4.5} cv score 0.17 round 1596\n",
      "params: {'gamma': 0.15, 'reg_lambda': 1.0} cv score 0.173 round 796\n",
      "params: {'gamma': 0.15, 'reg_lambda': 1.5} cv score 0.1747 round 1291\n",
      "params: {'gamma': 0.15, 'reg_lambda': 2.0} cv score 0.175 round 1713\n",
      "params: {'gamma': 0.15, 'reg_lambda': 2.5} cv score 0.1757 round 1340\n",
      "params: {'gamma': 0.15, 'reg_lambda': 3.0} cv score 0.1769 round 1320\n",
      "params: {'gamma': 0.15, 'reg_lambda': 3.5} cv score 0.1763 round 1002\n",
      "params: {'gamma': 0.15, 'reg_lambda': 4.0} cv score 0.1768 round 1196\n",
      "params: {'gamma': 0.15, 'reg_lambda': 4.5} cv score 0.1749 round 1410\n",
      "params: {'gamma': 0.2, 'reg_lambda': 1.0} cv score 0.1781 round 1291\n",
      "params: {'gamma': 0.2, 'reg_lambda': 1.5} cv score 0.1796 round 1836\n",
      "params: {'gamma': 0.2, 'reg_lambda': 2.0} cv score 0.1836 round 692\n",
      "params: {'gamma': 0.2, 'reg_lambda': 2.5} cv score 0.1804 round 1488\n",
      "params: {'gamma': 0.2, 'reg_lambda': 3.0} cv score 0.1855 round 696\n",
      "params: {'gamma': 0.2, 'reg_lambda': 3.5} cv score 0.1848 round 878\n",
      "params: {'gamma': 0.2, 'reg_lambda': 4.0} cv score 0.1838 round 641\n",
      "params: {'gamma': 0.2, 'reg_lambda': 4.5} cv score 0.1837 round 921\n",
      "params: {'gamma': 0.25, 'reg_lambda': 1.0} cv score 0.1826 round 1323\n",
      "params: {'gamma': 0.25, 'reg_lambda': 1.5} cv score 0.1839 round 1784\n",
      "params: {'gamma': 0.25, 'reg_lambda': 2.0} cv score 0.1884 round 977\n",
      "params: {'gamma': 0.25, 'reg_lambda': 2.5} cv score 0.1853 round 1323\n",
      "params: {'gamma': 0.25, 'reg_lambda': 3.0} cv score 0.1894 round 952\n",
      "params: {'gamma': 0.25, 'reg_lambda': 3.5} cv score 0.1868 round 1323\n",
      "params: {'gamma': 0.25, 'reg_lambda': 4.0} cv score 0.1891 round 1081\n",
      "params: {'gamma': 0.25, 'reg_lambda': 4.5} cv score 0.1873 round 1805\n",
      "params: {'gamma': 0.3, 'reg_lambda': 1.0} cv score 0.1898 round 985\n",
      "params: {'gamma': 0.3, 'reg_lambda': 1.5} cv score 0.1941 round 533\n",
      "params: {'gamma': 0.3, 'reg_lambda': 2.0} cv score 0.1916 round 977\n",
      "params: {'gamma': 0.3, 'reg_lambda': 2.5} cv score 0.192 round 1002\n",
      "params: {'gamma': 0.3, 'reg_lambda': 3.0} cv score 0.1947 round 770\n",
      "params: {'gamma': 0.3, 'reg_lambda': 3.5} cv score 0.194 round 921\n",
      "params: {'gamma': 0.3, 'reg_lambda': 4.0} cv score 0.1938 round 977\n",
      "params: {'gamma': 0.3, 'reg_lambda': 4.5} cv score 0.1943 round 1196\n",
      "params: {'gamma': 0.35, 'reg_lambda': 1.0} cv score 0.1945 round 770\n",
      "params: {'gamma': 0.35, 'reg_lambda': 1.5} cv score 0.1938 round 1291\n",
      "params: {'gamma': 0.35, 'reg_lambda': 2.0} cv score 0.1976 round 833\n",
      "params: {'gamma': 0.35, 'reg_lambda': 2.5} cv score 0.1967 round 1296\n",
      "params: {'gamma': 0.35, 'reg_lambda': 3.0} cv score 0.1969 round 819\n",
      "params: {'gamma': 0.35, 'reg_lambda': 3.5} cv score 0.199 round 833\n",
      "params: {'gamma': 0.35, 'reg_lambda': 4.0} cv score 0.1968 round 1291\n",
      "params: {'gamma': 0.35, 'reg_lambda': 4.5} cv score 0.2 round 770\n",
      "params: {'gamma': 0.4, 'reg_lambda': 1.0} cv score 0.1988 round 921\n",
      "params: {'gamma': 0.4, 'reg_lambda': 1.5} cv score 0.1994 round 1081\n",
      "params: {'gamma': 0.4, 'reg_lambda': 2.0} cv score 0.2002 round 921\n",
      "params: {'gamma': 0.4, 'reg_lambda': 2.5} cv score 0.201 round 770\n",
      "params: {'gamma': 0.4, 'reg_lambda': 3.0} cv score 0.2013 round 1196\n",
      "params: {'gamma': 0.4, 'reg_lambda': 3.5} cv score 0.2025 round 985\n",
      "params: {'gamma': 0.4, 'reg_lambda': 4.0} cv score 0.2053 round 641\n",
      "params: {'gamma': 0.4, 'reg_lambda': 4.5} cv score 0.2009 round 1196\n",
      "params: {'gamma': 0.45, 'reg_lambda': 1.0} cv score 0.2016 round 921\n",
      "params: {'gamma': 0.45, 'reg_lambda': 1.5} cv score 0.204 round 1196\n",
      "params: {'gamma': 0.45, 'reg_lambda': 2.0} cv score 0.2021 round 1196\n",
      "params: {'gamma': 0.45, 'reg_lambda': 2.5} cv score 0.2021 round 1317\n",
      "params: {'gamma': 0.45, 'reg_lambda': 3.0} cv score 0.2073 round 483\n",
      "params: {'gamma': 0.45, 'reg_lambda': 3.5} cv score 0.2043 round 1081\n",
      "params: {'gamma': 0.45, 'reg_lambda': 4.0} cv score 0.2057 round 880\n",
      "params: {'gamma': 0.45, 'reg_lambda': 4.5} cv score 0.2048 round 1196\n",
      "Best params: {'gamma': 0.0, 'reg_lambda': 4.0} 0.1411516\n"
     ]
    }
   ],
   "source": [
    "gamma            = [gamma/100     for gamma in range(0, 50, 5)]\n",
    "reg_lambda       = [reg_lambda/10    for reg_lambda in range(10,50,5)]\n",
    "params           = helper_cv(\n",
    "                        params,\n",
    "                        dtrain,\n",
    "                        num_boost_round,\n",
    "                        seed   = 0,\n",
    "                        nfold  = 5,\n",
    "                        metrics= 'rmse',\n",
    "                        early_stopping_rounds = 50,\n",
    "                        gamma = gamma,\n",
    "                        reg_lambda = reg_lambda)"
   ]
  },
  {
   "cell_type": "markdown",
   "id": "45631ec8",
   "metadata": {},
   "source": [
    "# test reducing learning rate and increase num_boost_round"
   ]
  },
  {
   "cell_type": "code",
   "execution_count": 11,
   "id": "749d7e1d",
   "metadata": {},
   "outputs": [
    {
     "name": "stdout",
     "output_type": "stream",
     "text": [
      "params: {'eta': 0.01} cv score 0.1445 round 4999\n",
      "params: {'eta': 0.02} cv score 0.1394 round 4988\n",
      "params: {'eta': 0.03} cv score 0.1392 round 3993\n",
      "params: {'eta': 0.04} cv score 0.1405 round 2947\n",
      "params: {'eta': 0.05} cv score 0.1405 round 2078\n",
      "params: {'eta': 0.06} cv score 0.1418 round 2033\n",
      "params: {'eta': 0.07} cv score 0.1413 round 2117\n",
      "params: {'eta': 0.08} cv score 0.1432 round 2211\n",
      "params: {'eta': 0.09} cv score 0.1416 round 1363\n",
      "params: {'eta': 0.1} cv score 0.1412 round 1386\n",
      "Best params: {'eta': 0.03} 0.1391724\n",
      "{'max_depth': 4, 'min_child_weight': 3, 'eta': 0.03, 'gamma': 0.0, 'reg_lambda': 4.0, 'subsample': 0.8, 'colsample_bytree': 0.7}\n"
     ]
    }
   ],
   "source": [
    "# reduce learning rate and increase num_boost_round\n",
    "eta                      = [eta/100     for eta in range(1, 11, 1)]\n",
    "num_boost_round          = 5000\n",
    "params       = helper_cv(\n",
    "                        params,\n",
    "                        dtrain,\n",
    "                        num_boost_round,\n",
    "                        seed   = 0,\n",
    "                        nfold  = 5,\n",
    "                        metrics= 'rmse',\n",
    "                        early_stopping_rounds = 50,\n",
    "                        eta  = eta)\n",
    "print(params)\n",
    "num_boost_round       = helper_cv(\n",
    "                        params,\n",
    "                        dtrain,\n",
    "                        num_boost_round,\n",
    "                        seed   = 0,\n",
    "                        nfold  = 5,\n",
    "                        metrics= 'rmse',\n",
    "                        early_stopping_rounds = 50)"
   ]
  },
  {
   "cell_type": "markdown",
   "id": "2f2953a7",
   "metadata": {},
   "source": [
    "# train and predict using optimized hyperparameters"
   ]
  },
  {
   "cell_type": "code",
   "execution_count": 12,
   "id": "4ef04785",
   "metadata": {},
   "outputs": [],
   "source": [
    "best_model = xgb.train(\n",
    "    params,\n",
    "    dtrain,\n",
    "    num_boost_round=num_boost_round\n",
    "    )"
   ]
  },
  {
   "cell_type": "code",
   "execution_count": 13,
   "id": "cb65401e",
   "metadata": {},
   "outputs": [],
   "source": [
    "predictions = best_model.predict(dtest)"
   ]
  },
  {
   "cell_type": "code",
   "execution_count": 14,
   "id": "c66886c1",
   "metadata": {},
   "outputs": [
    {
     "data": {
      "text/plain": [
       "0.1320883629186027"
      ]
     },
     "execution_count": 14,
     "metadata": {},
     "output_type": "execute_result"
    }
   ],
   "source": [
    "mean_squared_error(predictions, y_test,squared=False)"
   ]
  }
 ],
 "metadata": {
  "kernelspec": {
   "display_name": "paper2",
   "language": "python",
   "name": "paper2"
  },
  "language_info": {
   "codemirror_mode": {
    "name": "ipython",
    "version": 3
   },
   "file_extension": ".py",
   "mimetype": "text/x-python",
   "name": "python",
   "nbconvert_exporter": "python",
   "pygments_lexer": "ipython3",
   "version": "3.8.8"
  },
  "toc": {
   "base_numbering": 1,
   "nav_menu": {},
   "number_sections": true,
   "sideBar": true,
   "skip_h1_title": false,
   "title_cell": "Table of Contents",
   "title_sidebar": "Contents",
   "toc_cell": false,
   "toc_position": {},
   "toc_section_display": true,
   "toc_window_display": false
  }
 },
 "nbformat": 4,
 "nbformat_minor": 5
}
